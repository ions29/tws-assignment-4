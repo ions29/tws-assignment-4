{
 "cells": [
  {
   "attachments": {},
   "cell_type": "markdown",
   "id": "4fd8d0d4",
   "metadata": {},
   "source": [
    "Lets import dependencies"
   ]
  },
  {
   "cell_type": "code",
   "execution_count": null,
   "id": "fc12ca33",
   "metadata": {},
   "outputs": [],
   "source": [
    "! pip3 install ib_insync\n",
    "! pip3 install pandas\n",
    "! pip3 install openpyxl\n",
    "! pip3 install matplotlib"
   ]
  },
  {
   "cell_type": "code",
   "execution_count": 4,
   "id": "0dc56853",
   "metadata": {},
   "outputs": [],
   "source": [
    "import pandas as pd\n",
    "import numpy as np\n",
    "import matplotlib.pyplot as plt\n",
    "from ib_insync import *\n",
    "\n",
    "from pandas import DataFrame"
   ]
  },
  {
   "attachments": {},
   "cell_type": "markdown",
   "id": "3f20d08a",
   "metadata": {},
   "source": [
    "Setup IB"
   ]
  },
  {
   "cell_type": "code",
   "execution_count": null,
   "id": "63a041ef",
   "metadata": {},
   "outputs": [],
   "source": [
    "util.startLoop() # necessary for notebook\n",
    "\n",
    "ib = IB()\n",
    "ib.connect()\n",
    "ib.reqMarketDataType(3)"
   ]
  },
  {
   "cell_type": "markdown",
   "id": "1e35fddb",
   "metadata": {},
   "source": [
    "Create the contracts"
   ]
  },
  {
   "cell_type": "code",
   "execution_count": null,
   "id": "0e323ee9",
   "metadata": {},
   "outputs": [],
   "source": [
    "from ib_insync import contract\n",
    "\n",
    "contractInfos = [\n",
    "    {\n",
    "        \"conId\": 296574745,\n",
    "        \"exchange\": \"NYMEX\",\n",
    "    },\n",
    "    {\n",
    "        \"conId\": 297249704,\n",
    "        \"exchange\": \"IPE\",\n",
    "    },\n",
    "    {\n",
    "        \"conId\": 7089,\n",
    "        \"exchange\": \"NYSE\",\n",
    "    },\n",
    "    {\n",
    "        \"conId\": 470458975,\n",
    "        \"exchange\": \"NYSE\",\n",
    "    },\n",
    "    {\n",
    "        \"conId\": 4215217,\n",
    "        \"exchange\": \"NYSE\",\n",
    "    },\n",
    "    {\n",
    "        \"conId\": 13977,\n",
    "        \"exchange\": \"NYSE\",\n",
    "    },\n",
    "    {\n",
    "        \"conId\": 6890,\n",
    "        \"exchange\": \"NYSE\",\n",
    "    },\n",
    "    {\n",
    "        \"conId\": 5684,\n",
    "        \"exchange\": \"NYSE\",\n",
    "    },\n",
    "    {\n",
    "        \"conId\": 754442,\n",
    "        \"exchange\": \"NYSE\",\n",
    "    },\n",
    "    {\n",
    "        \"conId\": 10885,\n",
    "        \"exchange\": \"NYSE\",\n",
    "    },\n",
    "    {\n",
    "        \"conId\": 57698865,\n",
    "        \"exchange\": \"NYSE\",\n",
    "    },\n",
    "    {\n",
    "        \"conId\": 39118796,\n",
    "        \"exchange\": \"NYSE\",\n",
    "    },\n",
    "    {\n",
    "        \"conId\": 9831,\n",
    "        \"exchange\": \"NYSE\",\n",
    "    },\n",
    "    {\n",
    "        \"conId\": 3142097,\n",
    "        \"exchange\": \"NYSE\",\n",
    "    },\n",
    "    {\n",
    "        \"conId\": 6608450,\n",
    "        \"exchange\": \"NYSE\",\n",
    "    },\n",
    "    {\n",
    "        \"conId\": 13805,\n",
    "        \"exchange\": \"NYSE\",\n",
    "    },\n",
    "    {\n",
    "        \"conId\": 75960201,\n",
    "        \"exchange\": \"NYSE\",\n",
    "    },\n",
    "    {\n",
    "        \"conId\": 418893644,\n",
    "        \"exchange\": \"NYSE\",\n",
    "    },\n",
    "    {\n",
    "        \"conId\": 10190340,\n",
    "        \"exchange\": \"NYSE\",\n",
    "    },\n",
    "    {\n",
    "        \"conId\": 415578515,\n",
    "        \"exchange\": \"NYSE\",\n",
    "    },\n",
    "    {\n",
    "        \"conId\": 495512572,\n",
    "        \"exchange\": \"CME\",\n",
    "    },\n",
    "    {\n",
    "        \"conId\": 551601503,\n",
    "        \"exchange\": \"CBOT\",\n",
    "    },\n",
    "]\n",
    "\n",
    "contracts = [contract.Contract(**info) for info in contractInfos]\n",
    "\n",
    "for contract in contracts:\n",
    "    ib.qualifyContracts(contract)\n",
    "\n",
    "contracts[0]"
   ]
  }
 ],
 "metadata": {
  "kernelspec": {
   "display_name": "Python 3",
   "language": "python",
   "name": "python3"
  },
  "language_info": {
   "codemirror_mode": {
    "name": "ipython",
    "version": 3
   },
   "file_extension": ".py",
   "mimetype": "text/x-python",
   "name": "python",
   "nbconvert_exporter": "python",
   "pygments_lexer": "ipython3",
   "version": "3.10.9"
  },
  "vscode": {
   "interpreter": {
    "hash": "b0fa6594d8f4cbf19f97940f81e996739fb7646882a419484c72d19e05852a7e"
   }
  }
 },
 "nbformat": 4,
 "nbformat_minor": 5
}
