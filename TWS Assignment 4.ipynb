{
 "cells": [
  {
   "attachments": {},
   "cell_type": "markdown",
   "id": "4fd8d0d4",
   "metadata": {},
   "source": [
    "Lets import dependencies"
   ]
  },
  {
   "cell_type": "code",
   "execution_count": null,
   "id": "fc12ca33",
   "metadata": {},
   "outputs": [],
   "source": [
    "! pip3 install ib_insync\n",
    "! pip3 install pandas\n",
    "! pip3 install openpyxl\n",
    "! pip3 install matplotlib"
   ]
  },
  {
   "cell_type": "code",
   "execution_count": 2,
   "id": "0dc56853",
   "metadata": {},
   "outputs": [],
   "source": [
    "import pandas as pd\n",
    "import numpy as np\n",
    "import matplotlib.pyplot as plt\n",
    "from ib_insync import *\n",
    "\n",
    "from pandas import DataFrame"
   ]
  },
  {
   "attachments": {},
   "cell_type": "markdown",
   "id": "3f20d08a",
   "metadata": {},
   "source": [
    "Setup IB"
   ]
  },
  {
   "cell_type": "code",
   "execution_count": 3,
   "id": "63a041ef",
   "metadata": {},
   "outputs": [],
   "source": [
    "util.startLoop() # necessary for notebook\n",
    "\n",
    "ib = IB()\n",
    "ib.connect()\n",
    "ib.reqMarketDataType(3)"
   ]
  },
  {
   "cell_type": "markdown",
   "id": "1e35fddb",
   "metadata": {},
   "source": [
    "Create the contracts"
   ]
  },
  {
   "cell_type": "code",
   "execution_count": 4,
   "id": "0e323ee9",
   "metadata": {},
   "outputs": [
    {
     "data": {
      "text/plain": [
       "Contract(secType='FUT', conId=296574745, symbol='CL', lastTradeDateOrContractMonth='20230120', multiplier='1000', exchange='NYMEX', currency='USD', localSymbol='CLG3', tradingClass='CL')"
      ]
     },
     "execution_count": 4,
     "metadata": {},
     "output_type": "execute_result"
    }
   ],
   "source": [
    "from ib_insync import contract\n",
    "\n",
    "contractInfos = [\n",
    "    {\n",
    "        \"conId\": 296574745,\n",
    "        \"exchange\": \"NYMEX\",\n",
    "    },\n",
    "    {\n",
    "        \"conId\": 297249704,\n",
    "        \"exchange\": \"IPE\",\n",
    "    },\n",
    "    {\n",
    "        \"conId\": 7089,\n",
    "        \"exchange\": \"NYSE\",\n",
    "    },\n",
    "    {\n",
    "        \"conId\": 470458975,\n",
    "        \"exchange\": \"NYSE\",\n",
    "    },\n",
    "    {\n",
    "        \"conId\": 4215217,\n",
    "        \"exchange\": \"NYSE\",\n",
    "    },\n",
    "    {\n",
    "        \"conId\": 13977,\n",
    "        \"exchange\": \"NYSE\",\n",
    "    },\n",
    "    {\n",
    "        \"conId\": 6890,\n",
    "        \"exchange\": \"NYSE\",\n",
    "    },\n",
    "    {\n",
    "        \"conId\": 5684,\n",
    "        \"exchange\": \"NYSE\",\n",
    "    },\n",
    "    {\n",
    "        \"conId\": 754442,\n",
    "        \"exchange\": \"NYSE\",\n",
    "    },\n",
    "    {\n",
    "        \"conId\": 10885,\n",
    "        \"exchange\": \"NYSE\",\n",
    "    },\n",
    "    {\n",
    "        \"conId\": 57698865,\n",
    "        \"exchange\": \"NYSE\",\n",
    "    },\n",
    "    {\n",
    "        \"conId\": 39118796,\n",
    "        \"exchange\": \"NYSE\",\n",
    "    },\n",
    "    {\n",
    "        \"conId\": 9831,\n",
    "        \"exchange\": \"NYSE\",\n",
    "    },\n",
    "    {\n",
    "        \"conId\": 3142097,\n",
    "        \"exchange\": \"NYSE\",\n",
    "    },\n",
    "    {\n",
    "        \"conId\": 6608450,\n",
    "        \"exchange\": \"NYSE\",\n",
    "    },\n",
    "    {\n",
    "        \"conId\": 13805,\n",
    "        \"exchange\": \"NYSE\",\n",
    "    },\n",
    "    {\n",
    "        \"conId\": 75960201,\n",
    "        \"exchange\": \"NYSE\",\n",
    "    },\n",
    "    {\n",
    "        \"conId\": 418893644,\n",
    "        \"exchange\": \"NYSE\",\n",
    "    },\n",
    "    {\n",
    "        \"conId\": 10190340,\n",
    "        \"exchange\": \"NYSE\",\n",
    "    },\n",
    "    {\n",
    "        \"conId\": 415578515,\n",
    "        \"exchange\": \"NYSE\",\n",
    "    },\n",
    "    {\n",
    "        \"conId\": 495512572,\n",
    "        \"exchange\": \"CME\",\n",
    "    },\n",
    "    {\n",
    "        \"conId\": 551601503,\n",
    "        \"exchange\": \"CBOT\",\n",
    "    },\n",
    "]\n",
    "\n",
    "contracts = [contract.Contract(**info) for info in contractInfos]\n",
    "\n",
    "for contract in contracts:\n",
    "    ib.qualifyContracts(contract)\n",
    "\n",
    "contracts[0]"
   ]
  },
  {
   "cell_type": "code",
   "execution_count": null,
   "id": "799af8c4",
   "metadata": {},
   "outputs": [],
   "source": []
  },
  {
   "attachments": {},
   "cell_type": "markdown",
   "id": "75e99d77",
   "metadata": {},
   "source": [
    "# EITHER\n",
    "request all the initial data"
   ]
  },
  {
   "cell_type": "code",
   "execution_count": 38,
   "id": "ab0c1ec6",
   "metadata": {},
   "outputs": [
    {
     "name": "stdout",
     "output_type": "stream",
     "text": [
      "   volume    bid    ask  avg_bid  avg_ask  last_trade\n",
      "0   558.0  75.13  75.15   75.016   75.038       75.13\n",
      "1   343.0  74.64  74.66   74.996   75.018       74.64\n",
      "2   334.0  74.75  74.77   74.638   74.660       74.76\n",
      "3   310.0  74.57  74.60   74.708   74.730       74.58\n",
      "4   496.0  74.67  74.70   74.708   74.730       74.68\n"
     ]
    }
   ],
   "source": [
    "import datetime\n",
    "import os\n",
    "\n",
    "query_date = datetime.datetime.now().strftime(\"%Y%m%d-00:00:00\")\n",
    "\n",
    "def request_data(contract):\n",
    "    trades = util.df(ib.reqHistoricalData(contract, endDateTime=query_date, durationStr='30 D', barSizeSetting='10 mins', whatToShow='TRADES', useRTH=True))\n",
    "    bid = util.df(ib.reqHistoricalData(contract, endDateTime=query_date, durationStr='30 D', barSizeSetting='10 mins', whatToShow='BID', useRTH=True))\n",
    "    ask = util.df(ib.reqHistoricalData(contract, endDateTime=query_date, durationStr='30 D', barSizeSetting='10 mins', whatToShow='ASK', useRTH=True))\n",
    "    avg = util.df(ib.reqHistoricalData(contract, endDateTime=query_date, durationStr='30 D', barSizeSetting='10 mins', whatToShow='BID_ASK', useRTH=True))\n",
    "    volume = trades[\"volume\"]\n",
    "    last_trade = trades[\"close\"]\n",
    "    bid = bid[\"close\"]\n",
    "    ask = ask[\"close\"]\n",
    "    avg_bid = avg[\"open\"]\n",
    "    avg_ask = avg[\"close\"]\n",
    "    last_trade.name = \"last_trade\"\n",
    "    bid.name = \"bid\"\n",
    "    ask.name = \"ask\"\n",
    "    avg_bid.name = \"avg_bid\"\n",
    "    avg_ask.name = \"avg_ask\"\n",
    "    bars = pd.concat([volume, bid, ask, avg_bid, avg_ask, last_trade], axis=1)\n",
    "    return bars\n",
    "\n",
    "\n",
    "bars = {contract.symbol: request_data(contract) for contract in contracts}\n",
    "\n",
    "\n",
    "if not os.path.exists(\"data\"):\n",
    "    os.mkdir(\"data\")\n",
    "\n",
    "for symbol, bar in bars.items():\n",
    "    bar.to_csv(f\"data/{symbol}.csv\")\n",
    "\n",
    "print(bars[\"CL\"].head())\n"
   ]
  },
  {
   "attachments": {},
   "cell_type": "markdown",
   "id": "45ebd0aa",
   "metadata": {},
   "source": [
    "# OR\n",
    "Just import the data"
   ]
  },
  {
   "cell_type": "code",
   "execution_count": 46,
   "id": "9320ca4f",
   "metadata": {},
   "outputs": [
    {
     "data": {
      "text/html": [
       "<div>\n",
       "<style scoped>\n",
       "    .dataframe tbody tr th:only-of-type {\n",
       "        vertical-align: middle;\n",
       "    }\n",
       "\n",
       "    .dataframe tbody tr th {\n",
       "        vertical-align: top;\n",
       "    }\n",
       "\n",
       "    .dataframe thead th {\n",
       "        text-align: right;\n",
       "    }\n",
       "</style>\n",
       "<table border=\"1\" class=\"dataframe\">\n",
       "  <thead>\n",
       "    <tr style=\"text-align: right;\">\n",
       "      <th></th>\n",
       "      <th>volume</th>\n",
       "      <th>bid</th>\n",
       "      <th>ask</th>\n",
       "      <th>avg_bid</th>\n",
       "      <th>avg_ask</th>\n",
       "      <th>last_trade</th>\n",
       "    </tr>\n",
       "  </thead>\n",
       "  <tbody>\n",
       "    <tr>\n",
       "      <th>0</th>\n",
       "      <td>119.000</td>\n",
       "      <td>33893.000</td>\n",
       "      <td>33901.000</td>\n",
       "      <td>33877.300</td>\n",
       "      <td>33877.300</td>\n",
       "      <td>33898.000</td>\n",
       "    </tr>\n",
       "    <tr>\n",
       "      <th>1</th>\n",
       "      <td>67.000</td>\n",
       "      <td>33801.000</td>\n",
       "      <td>33808.000</td>\n",
       "      <td>33868.700</td>\n",
       "      <td>33868.700</td>\n",
       "      <td>33806.000</td>\n",
       "    </tr>\n",
       "    <tr>\n",
       "      <th>2</th>\n",
       "      <td>109.000</td>\n",
       "      <td>33821.000</td>\n",
       "      <td>33828.000</td>\n",
       "      <td>33804.300</td>\n",
       "      <td>33804.300</td>\n",
       "      <td>33821.000</td>\n",
       "    </tr>\n",
       "    <tr>\n",
       "      <th>3</th>\n",
       "      <td>136.000</td>\n",
       "      <td>33893.000</td>\n",
       "      <td>33901.000</td>\n",
       "      <td>33868.600</td>\n",
       "      <td>33868.600</td>\n",
       "      <td>33889.000</td>\n",
       "    </tr>\n",
       "    <tr>\n",
       "      <th>4</th>\n",
       "      <td>486.000</td>\n",
       "      <td>33912.000</td>\n",
       "      <td>33915.000</td>\n",
       "      <td>33895.000</td>\n",
       "      <td>33895.000</td>\n",
       "      <td>33914.000</td>\n",
       "    </tr>\n",
       "  </tbody>\n",
       "</table>\n",
       "</div>"
      ],
      "text/plain": [
       "    volume        bid        ask    avg_bid    avg_ask last_trade\n",
       "0  119.000  33893.000  33901.000  33877.300  33877.300  33898.000\n",
       "1   67.000  33801.000  33808.000  33868.700  33868.700  33806.000\n",
       "2  109.000  33821.000  33828.000  33804.300  33804.300  33821.000\n",
       "3  136.000  33893.000  33901.000  33868.600  33868.600  33889.000\n",
       "4  486.000  33912.000  33915.000  33895.000  33895.000  33914.000"
      ]
     },
     "execution_count": 46,
     "metadata": {},
     "output_type": "execute_result"
    }
   ],
   "source": [
    "bars2 = {contract.symbol: pd.read_csv(f\"data/{symbol}.csv\", index_col=0, dtype=\"str\") for contract in contracts}\n",
    "bars2[\"CL\"].head()"
   ]
  },
  {
   "cell_type": "markdown",
   "id": "29627b12",
   "metadata": {},
   "source": []
  },
  {
   "cell_type": "code",
   "execution_count": 55,
   "id": "8496c2fa",
   "metadata": {},
   "outputs": [],
   "source": [
    "def add_triggers(bars):\n",
    "    # Trigger 1: Volume\n",
    "    bars[\"avg_volume\"] = bars[\"volume\"].mean()\n",
    "    bars[\"volume_trigger\"] = (bars[\"volume\"] - bars[\"avg_volume\"]) / bars[\"avg_volume\"] * 100\n",
    "    bars[\"volume_trigger\"] = bars[\"volume_trigger\"].apply(lambda x: 1 if x > 50 else -1 if x < -50 else 0)\n",
    "\n",
    "    # Trigger 2: Spread\n",
    "    bars[\"spread\"] = bars[\"ask\"] - bars[\"bid\"]\n",
    "    bars[\"avg_spread\"] = bars[\"spread\"].mean() # i\n",
    "    bars[\"max_spread\"] = bars[\"spread\"].max() # ii\n",
    "    bars[\"delta_spread\"] = (bars[\"max_spread\"] - bars[\"avg_spread\"]) / 2 # iii\n",
    "    bars[\"min_tolerance_band\"] = (bars[\"avg_spread\"] - bars[\"delta_spread\"]).abs() # iv\n",
    "    bars[\"max_tolerance_band\"] = bars[\"avg_spread\"] + bars[\"delta_spread\"] # v\n",
    "    buy = bars[\"spread\"] < bars[\"min_tolerance_band\"]\n",
    "    sell = bars[\"spread\"] > bars[\"max_tolerance_band\"]\n",
    "    bars[\"spread_trigger\"] = 0\n",
    "    bars.loc[buy, \"spread_trigger\"] = 1\n",
    "    bars.loc[sell, \"spread_trigger\"] = -1\n",
    "\n",
    "    # Trigger 3: Bid-Ask\n",
    "    buy = bars[\"last_trade\"] > bars[\"avg_ask\"]\n",
    "    sell = bars[\"last_trade\"] < bars[\"avg_bid\"]\n",
    "    bars[\"bid_ask_trigger\"] = 0\n",
    "    bars.loc[buy, \"bid_ask_trigger\"] = 1\n",
    "    bars.loc[sell, \"bid_ask_trigger\"] = -1\n",
    "\n",
    "    # Trigger Sum\n",
    "    bars[\"trigger_sum\"] = bars[\"volume_trigger\"] + bars[\"spread_trigger\"] + bars[\"bid_ask_trigger\"]\n",
    "    bars[\"order\"] = bars[\"trigger_sum\"].apply(lambda x: \"BUY\" if x > 2 else \"SELL\" if x < -2 else \"WAIT\")\n",
    "    return bars\n",
    "\n",
    "triggers = {symbol: add_triggers(bar) for symbol, bar in bars.items()}"
   ]
  },
  {
   "cell_type": "code",
   "execution_count": 56,
   "id": "374b8de5",
   "metadata": {},
   "outputs": [],
   "source": [
    "if not os.path.exists(\"outputs\"):\n",
    "    os.mkdir(\"outputs\")\n",
    "\n",
    "for symbol, trigger in triggers.items():\n",
    "    trigger.to_csv(f\"outputs/{symbol}.csv\")"
   ]
  }
 ],
 "metadata": {
  "kernelspec": {
   "display_name": "Python 3",
   "language": "python",
   "name": "python3"
  },
  "language_info": {
   "codemirror_mode": {
    "name": "ipython",
    "version": 3
   },
   "file_extension": ".py",
   "mimetype": "text/x-python",
   "name": "python",
   "nbconvert_exporter": "python",
   "pygments_lexer": "ipython3",
   "version": "3.10.9"
  },
  "vscode": {
   "interpreter": {
    "hash": "b0fa6594d8f4cbf19f97940f81e996739fb7646882a419484c72d19e05852a7e"
   }
  }
 },
 "nbformat": 4,
 "nbformat_minor": 5
}
